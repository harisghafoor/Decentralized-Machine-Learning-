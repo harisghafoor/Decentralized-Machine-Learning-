{
  "nbformat": 4,
  "nbformat_minor": 0,
  "metadata": {
    "colab": {
      "name": "Server Aggregation.ipynb",
      "provenance": []
    },
    "kernelspec": {
      "name": "python3",
      "display_name": "Python 3"
    },
    "language_info": {
      "name": "python"
    }
  },
  "cells": [
    {
      "cell_type": "markdown",
      "source": [
        "# Importing Model 1 weights:"
      ],
      "metadata": {
        "id": "cwOPaffBsV0P"
      }
    },
    {
      "cell_type": "code",
      "source": [
        "import os\n",
        "import tensorflow as tf\n",
        "import keras"
      ],
      "metadata": {
        "id": "fhifngAFrccz"
      },
      "execution_count": null,
      "outputs": []
    },
    {
      "cell_type": "code",
      "source": [
        "from keras.initializers import glorot_uniform\n",
        "\n",
        "# Creating a new model from the saved JSON file\n",
        "# reda the model from the JSOn file\n",
        "with open('client1_nn.json', 'r') as json_file:\n",
        "    json_savedModel= json_file.read()\n",
        "#json_savedModel\n",
        "#load the model architecture \n",
        "model_1 = tf.keras.models.model_from_json(json_savedModel)\n",
        "model_1.summary()\n"
      ],
      "metadata": {
        "colab": {
          "base_uri": "https://localhost:8080/"
        },
        "id": "w-oZlF63rSvf",
        "outputId": "73902002-169a-4ac8-8c8e-1c2625de400e"
      },
      "execution_count": null,
      "outputs": [
        {
          "output_type": "stream",
          "name": "stdout",
          "text": [
            "Model: \"sequential\"\n",
            "_________________________________________________________________\n",
            " Layer (type)                Output Shape              Param #   \n",
            "=================================================================\n",
            " dense_1 (Dense)             (None, 128)               1792      \n",
            "                                                                 \n",
            " dense_2 (Dense)             (None, 64)                8256      \n",
            "                                                                 \n",
            " dense_output (Dense)        (None, 1)                 65        \n",
            "                                                                 \n",
            "=================================================================\n",
            "Total params: 10,113\n",
            "Trainable params: 10,113\n",
            "Non-trainable params: 0\n",
            "_________________________________________________________________\n"
          ]
        }
      ]
    },
    {
      "cell_type": "code",
      "source": [
        "model_1.load_weights('client1_nn.h5')"
      ],
      "metadata": {
        "id": "L8s1OI0frvF6"
      },
      "execution_count": null,
      "outputs": []
    },
    {
      "cell_type": "code",
      "source": [
        "print(\"Weights and biases of the layers before training the model: \\n\")\n",
        "count=0\n",
        "ls=[]\n",
        "for layer in model_1.layers:\n",
        "  print(layer.name)\n",
        "  print(\"Weights\")\n",
        "  print(\"Shape: \",layer.get_weights()[0].shape,'\\n',layer.get_weights()[0])\n",
        "  print(\"Bias\")\n",
        "  print(\"Shape: \",layer.get_weights()[1].shape,'\\n',layer.get_weights()[1],'\\n')\n",
        "  count+=1\n"
      ],
      "metadata": {
        "id": "JiVCYWu8rzrW",
        "colab": {
          "base_uri": "https://localhost:8080/"
        },
        "outputId": "c4441f5d-6c24-4060-88b7-bfbd73c3f7dd"
      },
      "execution_count": null,
      "outputs": [
        {
          "output_type": "stream",
          "name": "stdout",
          "text": [
            "Weights and biases of the layers before training the model: \n",
            "\n",
            "dense_1\n",
            "Weights\n",
            "Shape:  (13, 128) \n",
            " [[ 0.15179205 -0.08705606 -0.18315041 ...  0.02697445 -0.00643287\n",
            "   0.00332833]\n",
            " [-0.08201889  0.07328211  0.00342178 ...  0.06405001  0.05801722\n",
            "   0.04904366]\n",
            " [ 0.08074225 -0.16817783  0.0810362  ...  0.22659174  0.1393383\n",
            "  -0.18975668]\n",
            " ...\n",
            " [ 0.23694645  0.12201258 -0.30202785 ... -0.33403578  0.21245575\n",
            "   0.32029068]\n",
            " [-0.14623624  0.00722845  0.25283042 ...  0.19022515 -0.17372099\n",
            "  -0.0784206 ]\n",
            " [ 0.14140163 -0.06532108 -0.17594077 ...  0.01221442  0.0632719\n",
            "   0.13649659]]\n",
            "Bias\n",
            "Shape:  (128,) \n",
            " [ 0.10206913  0.09870671  0.11507996  0.12893298  0.10773106  0.1392858\n",
            "  0.11425304  0.12866502  0.07222866  0.15059188  0.12063865  0.11873877\n",
            "  0.18101941  0.14937599  0.0865704   0.10421459  0.09961511  0.10379653\n",
            "  0.13166973  0.08136479  0.10544962  0.09420877  0.13020669  0.12120255\n",
            "  0.1017984   0.12248821  0.03969344  0.05828207  0.11423033  0.12190514\n",
            "  0.13216387  0.09600779  0.10471287  0.08792412  0.14551501  0.11401095\n",
            "  0.1262651   0.16218428  0.07936651  0.13203068  0.12442934  0.08029747\n",
            "  0.08893738  0.07781392  0.04224832  0.1313333   0.13344374 -0.0532704\n",
            "  0.04137303  0.08397759  0.13230677  0.16616356  0.08756355  0.11859456\n",
            "  0.1238821   0.10356579  0.09430122  0.08888341  0.10670091  0.0491093\n",
            "  0.11875115  0.10188767  0.11435828  0.08754268  0.05990959  0.09278119\n",
            "  0.10786427 -0.00315831  0.14991862  0.09013472  0.1565161   0.07080208\n",
            "  0.11252166  0.12378493  0.12180295  0.14434187  0.059134    0.12306078\n",
            "  0.05109941  0.0479057   0.07542676  0.13491677  0.08921018  0.08416282\n",
            "  0.03555349  0.1145325   0.10712706  0.13816889  0.07546618  0.12720875\n",
            "  0.15269585  0.09557226  0.10468458  0.15660767  0.09147839  0.12300136\n",
            "  0.10704691  0.08288474  0.12416826  0.10732508  0.11559072  0.09906006\n",
            "  0.09793497  0.10605551  0.1321027   0.0957456   0.11051858  0.17656334\n",
            "  0.11543294  0.09962201  0.13049296  0.13279426  0.12944974  0.11252984\n",
            "  0.094133    0.11975446  0.14070833  0.1088168   0.12554565  0.14129536\n",
            "  0.10982811  0.11757027  0.12080229  0.05711219  0.11368728  0.10019699\n",
            "  0.02147512  0.13833137] \n",
            "\n",
            "dense_2\n",
            "Weights\n",
            "Shape:  (128, 64) \n",
            " [[ 0.09657665  0.20836242 -0.04449337 ...  0.11846066 -0.1767262\n",
            "   0.1841404 ]\n",
            " [-0.14639455  0.01107436 -0.00186677 ...  0.16364014 -0.02871897\n",
            "   0.15783505]\n",
            " [-0.08548462  0.069308    0.10185819 ...  0.02093804 -0.16331635\n",
            "  -0.02758727]\n",
            " ...\n",
            " [-0.13113518  0.14658329  0.19995846 ...  0.19855158  0.09750883\n",
            "   0.09725979]\n",
            " [-0.00229404  0.10519935  0.01762593 ... -0.02810505 -0.06495053\n",
            "   0.08646254]\n",
            " [ 0.06517825  0.22689013  0.02398731 ...  0.05678599 -0.07249498\n",
            "   0.1539854 ]]\n",
            "Bias\n",
            "Shape:  (64,) \n",
            " [-0.01553794  0.08884985  0.08889741  0.08488405  0.10858572  0.08317875\n",
            "  0.0803789  -0.02574976 -0.00869929  0.09254625 -0.01545798  0.08958882\n",
            " -0.02751401 -0.0240608   0.10447862  0.08815522 -0.02209163  0.09310573\n",
            " -0.01224344  0.08256776  0.11185674 -0.00793776  0.08161603  0.10862204\n",
            " -0.02142257  0.08822136  0.08590876  0.0854848   0.08724982  0.10302869\n",
            "  0.08719862 -0.02541783  0.07928672  0.11983187 -0.01641127 -0.0213354\n",
            " -0.01140153 -0.02753849 -0.01614547  0.10507067  0.10557168 -0.00962991\n",
            " -0.02330706 -0.02482589  0.08290073  0.08762036  0.05274426  0.08041508\n",
            "  0.07930229 -0.02469864 -0.01777793 -0.02714717  0.08552926  0.13099076\n",
            " -0.02445544 -0.02489842 -0.00946028 -0.02370649  0.09361503  0.10034949\n",
            " -0.02060447  0.08920949 -0.00901499  0.07901347] \n",
            "\n",
            "dense_output\n",
            "Weights\n",
            "Shape:  (64, 1) \n",
            " [[-0.12186097]\n",
            " [ 0.27747947]\n",
            " [ 0.28503016]\n",
            " [ 0.24742815]\n",
            " [ 0.12232465]\n",
            " [ 0.33992484]\n",
            " [ 0.2637149 ]\n",
            " [-0.15047595]\n",
            " [-0.24762985]\n",
            " [ 0.39315355]\n",
            " [-0.18725748]\n",
            " [ 0.3648416 ]\n",
            " [-0.07170605]\n",
            " [-0.07889526]\n",
            " [ 0.12480439]\n",
            " [ 0.21969381]\n",
            " [-0.04618734]\n",
            " [ 0.22341631]\n",
            " [-0.13021356]\n",
            " [ 0.3741251 ]\n",
            " [ 0.1381521 ]\n",
            " [-0.30636168]\n",
            " [ 0.31859836]\n",
            " [ 0.18963468]\n",
            " [-0.17913736]\n",
            " [ 0.2606243 ]\n",
            " [ 0.21237081]\n",
            " [ 0.20409784]\n",
            " [ 0.21852665]\n",
            " [ 0.09751039]\n",
            " [ 0.19308597]\n",
            " [-0.14213842]\n",
            " [ 0.37056825]\n",
            " [ 0.11766376]\n",
            " [-0.01431643]\n",
            " [-0.23516092]\n",
            " [-0.28787047]\n",
            " [-0.03216285]\n",
            " [-0.14906469]\n",
            " [ 0.16376172]\n",
            " [ 0.09236636]\n",
            " [-0.28533334]\n",
            " [-0.02798037]\n",
            " [-0.20413749]\n",
            " [ 0.2235466 ]\n",
            " [ 0.20802227]\n",
            " [-0.5563559 ]\n",
            " [ 0.29487687]\n",
            " [ 0.3633689 ]\n",
            " [-0.18116303]\n",
            " [-0.2128623 ]\n",
            " [-0.12863335]\n",
            " [ 0.19258004]\n",
            " [ 0.15283145]\n",
            " [-0.15966895]\n",
            " [-0.03630703]\n",
            " [-0.28451478]\n",
            " [-0.14213935]\n",
            " [ 0.15529022]\n",
            " [ 0.13416244]\n",
            " [-0.17889617]\n",
            " [ 0.32087153]\n",
            " [-0.2774184 ]\n",
            " [ 0.29310104]]\n",
            "Bias\n",
            "Shape:  (1,) \n",
            " [0.07314562] \n",
            "\n"
          ]
        }
      ]
    },
    {
      "cell_type": "code",
      "source": [
        "client1_weight_layer_1=model_1.layers[0].get_weights()[0]\n",
        "client1_bias_layer_1=model_1.layers[0].get_weights()[1]\n",
        "\n",
        "client1_weight_layer_2=model_1.layers[1].get_weights()[0]\n",
        "client1_bias_layer_2=model_1.layers[1].get_weights()[1]\n",
        "\n",
        "client1_weight_layer_3=model_1.layers[2].get_weights()[0]\n",
        "client1_bias_layer_3=model_1.layers[2].get_weights()[1]\n"
      ],
      "metadata": {
        "id": "O4xhZzkEscDk"
      },
      "execution_count": null,
      "outputs": []
    },
    {
      "cell_type": "markdown",
      "source": [
        "# Imporing Model 2 weights:\n"
      ],
      "metadata": {
        "id": "NTztNRcXtI_y"
      }
    },
    {
      "cell_type": "code",
      "source": [
        "from keras.initializers import glorot_uniform\n",
        "\n",
        "# Creating a new model from the saved JSON file\n",
        "# reda the model from the JSOn file\n",
        "with open('client2_nn.json', 'r') as json_file:\n",
        "    json_savedModel= json_file.read()\n",
        "#json_savedModel\n",
        "#load the model architecture \n",
        "model_2 = tf.keras.models.model_from_json(json_savedModel)\n",
        "model_2.summary()\n"
      ],
      "metadata": {
        "colab": {
          "base_uri": "https://localhost:8080/"
        },
        "outputId": "45f55cc9-f1e5-4ce1-b9e1-e1e6df72ba33",
        "id": "wr3For5StMZO"
      },
      "execution_count": null,
      "outputs": [
        {
          "output_type": "stream",
          "name": "stdout",
          "text": [
            "Model: \"sequential\"\n",
            "_________________________________________________________________\n",
            " Layer (type)                Output Shape              Param #   \n",
            "=================================================================\n",
            " dense_1 (Dense)             (None, 128)               1792      \n",
            "                                                                 \n",
            " dense_2 (Dense)             (None, 64)                8256      \n",
            "                                                                 \n",
            " dense_output (Dense)        (None, 1)                 65        \n",
            "                                                                 \n",
            "=================================================================\n",
            "Total params: 10,113\n",
            "Trainable params: 10,113\n",
            "Non-trainable params: 0\n",
            "_________________________________________________________________\n"
          ]
        }
      ]
    },
    {
      "cell_type": "code",
      "source": [
        "model_2.load_weights('client2_nn.h5')"
      ],
      "metadata": {
        "id": "QFnZGfF9tMZO"
      },
      "execution_count": null,
      "outputs": []
    },
    {
      "cell_type": "code",
      "source": [
        "print(\"Weights and biases of the layers before training the model: \\n\")\n",
        "count=0\n",
        "ls=[]\n",
        "for layer in model_2.layers:\n",
        "  print(layer.name)\n",
        "  print(\"Weights\")\n",
        "  print(\"Shape: \",layer.get_weights()[0].shape,'\\n',layer.get_weights()[0])\n",
        "  print(\"Bias\")\n",
        "  print(\"Shape: \",layer.get_weights()[1].shape,'\\n',layer.get_weights()[1],'\\n')\n",
        "  count+=1\n"
      ],
      "metadata": {
        "colab": {
          "base_uri": "https://localhost:8080/"
        },
        "id": "by_APb4ptMZP",
        "outputId": "6a36c790-d18d-49b3-ad3f-affca346ba14"
      },
      "execution_count": null,
      "outputs": [
        {
          "output_type": "stream",
          "name": "stdout",
          "text": [
            "Weights and biases of the layers before training the model: \n",
            "\n",
            "dense_1\n",
            "Weights\n",
            "Shape:  (13, 128) \n",
            " [[-0.02760339 -0.26991048 -0.02210492 ...  0.02461811 -0.14514351\n",
            "  -0.23088966]\n",
            " [ 0.01269681  0.0474552  -0.2490132  ... -0.04197317  0.19364466\n",
            "  -0.04972168]\n",
            " [ 0.11709142 -0.2080354  -0.05131546 ... -0.22632867 -0.18669333\n",
            "  -0.06311754]\n",
            " ...\n",
            " [-0.22922204 -0.06577431 -0.23147321 ... -0.0366506  -0.05791987\n",
            "  -0.12949134]\n",
            " [-0.07136113  0.01703925  0.1648026  ...  0.10911064  0.21559742\n",
            "  -0.0313962 ]\n",
            " [-0.25058353  0.129245   -0.03079271 ... -0.09090144  0.02167044\n",
            "   0.24800377]]\n",
            "Bias\n",
            "Shape:  (128,) \n",
            " [ 0.00770098  0.06422663  0.13088366  0.11137927  0.04472869  0.07015117\n",
            "  0.07862534  0.12156076  0.0644688   0.10120663  0.05321613  0.08612221\n",
            "  0.11150543 -0.00768787  0.07164372  0.0786153  -0.05657024  0.07312166\n",
            "  0.08473776  0.11811557  0.08372247  0.07165374 -0.04201307  0.08043877\n",
            "  0.07818281 -0.06272481  0.07423285  0.11477035  0.10108792  0.00924013\n",
            " -0.0645674   0.04273766  0.05610073  0.00179587  0.08405704  0.05127019\n",
            "  0.12337873 -0.0191638   0.11595526  0.12109645  0.05740926 -0.02662663\n",
            "  0.02597458  0.03339329  0.01489536  0.09476613  0.06167935  0.05827783\n",
            "  0.05876708  0.05323185  0.07187833  0.07022947  0.08470607  0.07536345\n",
            "  0.01288317  0.06676502  0.08316656 -0.01096144  0.05947759  0.10240675\n",
            "  0.05549521  0.09730375  0.02397476  0.08017107 -0.03201248  0.05564702\n",
            "  0.05192391  0.12198838  0.07317538 -0.03288313 -0.02667723  0.11915538\n",
            "  0.07688033  0.08718353  0.0958238  -0.00973713 -0.03506615  0.021138\n",
            "  0.07618515  0.07735416  0.07344936  0.07369057  0.09722584  0.07537308\n",
            "  0.09348087  0.08709203  0.00796341  0.07732771  0.07761761  0.03907928\n",
            "  0.06403062  0.0789297   0.0285363   0.07798361  0.07621661  0.0639748\n",
            "  0.12528129  0.1269817   0.10427379  0.10199733  0.03292961  0.06602712\n",
            "  0.08664091  0.05695503  0.0751384   0.01874352 -0.00338869  0.07432203\n",
            "  0.04996995  0.000886    0.0089605   0.06862403  0.01704834  0.07871681\n",
            "  0.14455204  0.07880273  0.09386578  0.068997   -0.01829729  0.08184636\n",
            " -0.05817934  0.02524306  0.08868489 -0.05321535  0.04565072  0.04208392\n",
            "  0.08202768  0.07519642] \n",
            "\n",
            "dense_2\n",
            "Weights\n",
            "Shape:  (128, 64) \n",
            " [[-0.11575858 -0.01522184  0.19511622 ...  0.17367414 -0.15253969\n",
            "  -0.18207283]\n",
            " [ 0.22017086  0.12267154 -0.07562425 ... -0.05552742 -0.07451887\n",
            "  -0.13241321]\n",
            " [ 0.0767612  -0.00615206 -0.0225624  ... -0.04016339 -0.18622057\n",
            "  -0.1014121 ]\n",
            " ...\n",
            " [ 0.01635511  0.13919353  0.08416342 ... -0.00145247 -0.11181656\n",
            "  -0.14616206]\n",
            " [ 0.08659359  0.00782941 -0.11399239 ...  0.02845455  0.10293184\n",
            "   0.06965923]\n",
            " [ 0.20045723  0.0781591   0.23000939 ... -0.03138537 -0.15657662\n",
            "   0.04362402]]\n",
            "Bias\n",
            "Shape:  (64,) \n",
            " [ 0.06553016  0.06609516  0.06412036  0.07297919  0.06573101 -0.03111629\n",
            " -0.02553638 -0.02485559  0.06278227  0.06095265  0.07096009 -0.0126698\n",
            " -0.03189997 -0.01403525 -0.01363289  0.07689332 -0.0128629   0.07981233\n",
            "  0.06687936 -0.0221631   0.01778103 -0.0307601  -0.02227407 -0.0225048\n",
            " -0.01972226  0.06567446  0.07402568 -0.02013104  0.06320542  0.06308682\n",
            " -0.01943782 -0.0131927   0.06481855 -0.02006674  0.06654515  0.07659417\n",
            " -0.02731616 -0.01786466  0.06201061 -0.02946417  0.06180652  0.06841949\n",
            " -0.01958306 -0.02397883  0.06505384  0.06104575 -0.01859368  0.06777583\n",
            " -0.02196447  0.07123773  0.07252508  0.06883767 -0.02513316 -0.02069675\n",
            "  0.05914899  0.06149717  0.0683361   0.08227263  0.06056987  0.06362766\n",
            " -0.02592292  0.07003952 -0.01550931 -0.02436841] \n",
            "\n",
            "dense_output\n",
            "Weights\n",
            "Shape:  (64, 1) \n",
            " [[ 0.19947305]\n",
            " [ 0.37755668]\n",
            " [ 0.29132655]\n",
            " [ 0.12510024]\n",
            " [ 0.21997753]\n",
            " [-0.19943434]\n",
            " [-0.10978117]\n",
            " [-0.06498337]\n",
            " [ 0.28563035]\n",
            " [ 0.30251756]\n",
            " [ 0.2597081 ]\n",
            " [-0.22108023]\n",
            " [-0.04816907]\n",
            " [-0.18632542]\n",
            " [-0.12319032]\n",
            " [ 0.20380586]\n",
            " [-0.17290501]\n",
            " [ 0.11035816]\n",
            " [ 0.14774534]\n",
            " [-0.00454213]\n",
            " [ 0.22508828]\n",
            " [-0.14275555]\n",
            " [-0.17891423]\n",
            " [-0.00733587]\n",
            " [-0.2805488 ]\n",
            " [ 0.09566663]\n",
            " [ 0.15346745]\n",
            " [-0.01558705]\n",
            " [ 0.18129542]\n",
            " [ 0.3355408 ]\n",
            " [-0.16012952]\n",
            " [-0.11550871]\n",
            " [ 0.15184228]\n",
            " [-0.24226888]\n",
            " [ 0.22297144]\n",
            " [ 0.10388214]\n",
            " [-0.18943137]\n",
            " [-0.12203926]\n",
            " [ 0.24997744]\n",
            " [-0.07807025]\n",
            " [ 0.3471417 ]\n",
            " [ 0.26651168]\n",
            " [-0.16907679]\n",
            " [-0.02558183]\n",
            " [ 0.33334342]\n",
            " [ 0.25628957]\n",
            " [-0.14754792]\n",
            " [ 0.19093193]\n",
            " [-0.17547739]\n",
            " [ 0.14827198]\n",
            " [ 0.29281202]\n",
            " [ 0.16221996]\n",
            " [-0.07487319]\n",
            " [-0.1368597 ]\n",
            " [ 0.37458655]\n",
            " [ 0.38642144]\n",
            " [ 0.27702618]\n",
            " [ 0.20559362]\n",
            " [ 0.25175413]\n",
            " [ 0.23915051]\n",
            " [-0.24737571]\n",
            " [ 0.34184834]\n",
            " [-0.28122965]\n",
            " [-0.10252385]]\n",
            "Bias\n",
            "Shape:  (1,) \n",
            " [0.05702973] \n",
            "\n"
          ]
        }
      ]
    },
    {
      "cell_type": "code",
      "source": [
        "client2_weight_layer_1=model_2.layers[0].get_weights()[0]\n",
        "client2_bias_layer_1=model_2.layers[0].get_weights()[1]\n",
        "\n",
        "client2_weight_layer_2=model_2.layers[1].get_weights()[0]\n",
        "client2_bias_layer_2=model_2.layers[1].get_weights()[1]\n",
        "\n",
        "client2_weight_layer_3=model_2.layers[2].get_weights()[0]\n",
        "client2_bias_layer_3=model_2.layers[2].get_weights()[1]\n"
      ],
      "metadata": {
        "id": "bjGy1kcNtMZP"
      },
      "execution_count": null,
      "outputs": []
    },
    {
      "cell_type": "markdown",
      "source": [
        "# Aggregating the two Model's Weights"
      ],
      "metadata": {
        "id": "rLrch6o49akr"
      }
    },
    {
      "cell_type": "code",
      "source": [
        "import numpy as np\n",
        "a=np.array([[2,2],[2,2]])\n",
        "b=np.array([[4,6],[8,10]])\n",
        "c=np.mean(np.array([a,b]),axis=0)\n",
        "c.shape,a.shape,b.shape"
      ],
      "metadata": {
        "colab": {
          "base_uri": "https://localhost:8080/"
        },
        "id": "X0t-FF7juSU8",
        "outputId": "c7b41ee8-b157-4d0c-f863-96f5fbc9c761"
      },
      "execution_count": null,
      "outputs": [
        {
          "output_type": "execute_result",
          "data": {
            "text/plain": [
              "((2, 2), (2, 2), (2, 2))"
            ]
          },
          "metadata": {},
          "execution_count": 11
        }
      ]
    },
    {
      "cell_type": "code",
      "source": [
        "avg_w_l_1=np.mean(np.array([client1_weight_layer_1,client2_weight_layer_1]),axis=0)\n",
        "avg_b_l_1=np.mean(np.array([client1_bias_layer_1,client2_bias_layer_1]),axis=0)\n",
        "\n",
        "avg_w_l_2=np.mean(np.array([client1_weight_layer_2,client2_weight_layer_2]),axis=0)\n",
        "avg_b_l_2=np.mean(np.array([client1_bias_layer_2,client2_bias_layer_2]),axis=0)\n",
        "\n",
        "avg_w_l_3=np.mean(np.array([client1_weight_layer_3,client2_weight_layer_3]),axis=0)\n",
        "avg_b_l_3=np.mean(np.array([client1_bias_layer_3,client2_bias_layer_3]),axis=0)\n"
      ],
      "metadata": {
        "id": "OijI0It619s4"
      },
      "execution_count": null,
      "outputs": []
    },
    {
      "cell_type": "markdown",
      "source": [
        "# Saving the Updated Weights and Sending the updates to Clients Models:"
      ],
      "metadata": {
        "id": "O9aDPe7J9fl6"
      }
    },
    {
      "cell_type": "code",
      "source": [
        "ls_layer_1=[]\n",
        "ls_layer_1.append(avg_w_l_1) # Weights of layer 1\n",
        "ls_layer_1.append(avg_b_l_1) # Bias of layer1\n",
        "\n",
        "\n",
        "ls_layer_2=[]\n",
        "ls_layer_2.append(avg_w_l_2) # Weights of layer 1\n",
        "ls_layer_2.append(avg_b_l_2) # Bias of layer1\n",
        "\n",
        "\n",
        "ls_layer_3=[]\n",
        "ls_layer_3.append(avg_w_l_3) # Weights of layer 1\n",
        "ls_layer_3.append(avg_b_l_3) # Bias of layer1\n"
      ],
      "metadata": {
        "id": "WXGxkGvK_Pl0"
      },
      "execution_count": null,
      "outputs": []
    },
    {
      "cell_type": "code",
      "source": [
        "import pickle\n",
        "with open(\"updated_layer_1.json\", \"wb\") as fp:\n",
        "  pickle.dump(ls_layer_1, fp)"
      ],
      "metadata": {
        "id": "6RQWh3pUAkMz"
      },
      "execution_count": null,
      "outputs": []
    },
    {
      "cell_type": "code",
      "source": [
        "with open(\"updated_layer_2.json\", \"wb\") as fp2:\n",
        "  pickle.dump(ls_layer_2, fp2)"
      ],
      "metadata": {
        "id": "FPp7Qc0vFRiq"
      },
      "execution_count": null,
      "outputs": []
    },
    {
      "cell_type": "code",
      "source": [
        "with open(\"updated_layer_3.json\", \"wb\") as fp3:\n",
        "  pickle.dump(ls_layer_3, fp3)"
      ],
      "metadata": {
        "id": "Ukf8wHn0FRnn"
      },
      "execution_count": null,
      "outputs": []
    },
    {
      "cell_type": "code",
      "source": [
        "with open(\"updated_layer_1.json\", \"rb\") as fp:\n",
        "  fv=pickle.load(fp)"
      ],
      "metadata": {
        "id": "ywIYrW37EyLR"
      },
      "execution_count": null,
      "outputs": []
    },
    {
      "cell_type": "markdown",
      "source": [
        "# Now Setting the model.set_weights and Re-training the model: Happy Friday "
      ],
      "metadata": {
        "id": "5a_OyXl-Fbxj"
      }
    },
    {
      "cell_type": "code",
      "source": [
        "print(\"Weight , Bias of layer 1\")\n",
        "np.shape(ls_layer_1[0]),np.shape(ls_layer_1[1])"
      ],
      "metadata": {
        "colab": {
          "base_uri": "https://localhost:8080/"
        },
        "id": "mJ4s4FKOWUTl",
        "outputId": "00d7535e-be12-4aa3-df51-38b479146af9"
      },
      "execution_count": null,
      "outputs": [
        {
          "output_type": "stream",
          "name": "stdout",
          "text": [
            "Weight , Bias\n"
          ]
        },
        {
          "output_type": "execute_result",
          "data": {
            "text/plain": [
              "((13, 128), (128,))"
            ]
          },
          "metadata": {},
          "execution_count": 21
        }
      ]
    },
    {
      "cell_type": "code",
      "source": [
        "print(\"Weight , Bias of layer 2\")\n",
        "np.shape(ls_layer_2[0]),np.shape(ls_layer_2[1])"
      ],
      "metadata": {
        "colab": {
          "base_uri": "https://localhost:8080/"
        },
        "outputId": "090230f4-4846-402c-85d4-832e61697612",
        "id": "QWK6QkIHXrao"
      },
      "execution_count": null,
      "outputs": [
        {
          "output_type": "stream",
          "name": "stdout",
          "text": [
            "Weight , Bias of layer 2\n"
          ]
        },
        {
          "output_type": "execute_result",
          "data": {
            "text/plain": [
              "((128, 64), (64,))"
            ]
          },
          "metadata": {},
          "execution_count": 23
        }
      ]
    },
    {
      "cell_type": "code",
      "source": [
        "print(\"Weight , Bias of layer 3\")\n",
        "np.shape(ls_layer_3[0]),np.shape(ls_layer_3[1])"
      ],
      "metadata": {
        "colab": {
          "base_uri": "https://localhost:8080/"
        },
        "outputId": "e00b85b8-94cd-4e62-d251-6e17bb305185",
        "id": "03lteXzMXzke"
      },
      "execution_count": null,
      "outputs": [
        {
          "output_type": "stream",
          "name": "stdout",
          "text": [
            "Weight , Bias of layer 3\n"
          ]
        },
        {
          "output_type": "execute_result",
          "data": {
            "text/plain": [
              "((64, 1), (1,))"
            ]
          },
          "metadata": {},
          "execution_count": 24
        }
      ]
    }
}
